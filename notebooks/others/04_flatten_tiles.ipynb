{
 "cells": [
  {
   "cell_type": "markdown",
   "metadata": {},
   "source": [
    "# Flatten tiles"
   ]
  },
  {
   "cell_type": "markdown",
   "metadata": {},
   "source": [
    "# table of content\n",
    "1) [Flattening a tile](#flattening-a-tile)\n",
    "2) [Visualize the removed points](#visualize-the-removed-points)"
   ]
  },
  {
   "cell_type": "markdown",
   "metadata": {},
   "source": [
    "### Dependencies and general utils"
   ]
  },
  {
   "cell_type": "code",
   "execution_count": null,
   "metadata": {},
   "outputs": [],
   "source": [
    "# pip install scipy"
   ]
  },
  {
   "cell_type": "code",
   "execution_count": null,
   "metadata": {},
   "outputs": [],
   "source": [
    "import os\n",
    "import numpy as np\n",
    "import pandas as pd\n",
    "import matplotlib.pyplot as plt\n",
    "import seaborn as sns\n",
    "import open3d as o3d\n",
    "import laspy\n",
    "# import pdal\n",
    "import json\n",
    "import scipy\n",
    "import copy\n",
    "import pickle\n",
    "from tqdm import tqdm\n",
    "from scipy.spatial import cKDTree"
   ]
  },
  {
   "cell_type": "markdown",
   "metadata": {},
   "source": [
    "### Flattening a tile"
   ]
  },
  {
   "cell_type": "markdown",
   "metadata": {},
   "source": [
    "#### example"
   ]
  },
  {
   "cell_type": "code",
   "execution_count": null,
   "metadata": {},
   "outputs": [],
   "source": [
    "def remove_duplicates(laz_file):\n",
    "    # Find pairs of points\n",
    "    coords = np.round(np.vstack((laz_file.x, laz_file.y, laz_file.z)),2).T\n",
    "    tree_B = cKDTree(coords)\n",
    "    pairs = tree_B.query_pairs(1e-2)\n",
    "\n",
    "    # Create the mask with dupplicates\n",
    "    mask = [True for i in range(len(coords))]\n",
    "    for pair in pairs:\n",
    "        mask[pair[1]] = False\n",
    "\n",
    "    # Remove the dupplicates from the file\n",
    "    laz_file.points = laz_file.points[mask]"
   ]
  },
  {
   "cell_type": "code",
   "execution_count": null,
   "metadata": {},
   "outputs": [],
   "source": [
    "tile_src = r\"..\\data\\flattening_testing\\color_grp_full_tile_128.laz\"\n",
    "tile_src = r\"..\\data\\flattening_corrections\\test\\color_grp_full_tile_128.laz\"\n",
    "laz = laspy.read(tile_src)\n",
    "print(len(laz))\n",
    "remove_duplicates(laz)\n",
    "print(len(laz))\n",
    "laz.write(tile_src)\n",
    "points = np.vstack((laz.x, laz.y, laz.z)).T\n",
    "points_flatten = copy.deepcopy(points)\n",
    "points_interpolated = copy.deepcopy(points)\n",
    "print(list(laz.point_format.dimension_names))\n",
    "print(points.shape)"
   ]
  },
  {
   "cell_type": "code",
   "execution_count": null,
   "metadata": {},
   "outputs": [],
   "source": [
    "grid_size=10\n",
    "# Divide into tiles and find local minimums\n",
    "#   _Create grid and find min Z in each cell\n",
    "x_min, y_min = np.min(points[:, :2], axis=0)\n",
    "x_max, y_max = np.max(points[:, :2], axis=0)\n",
    "\n",
    "x_bins = np.append(np.arange(x_min, x_max, grid_size), x_max)\n",
    "y_bins = np.append(np.arange(y_min, y_max, grid_size), y_max)\n",
    "\n",
    "grid = {i:{j:[] for j in range(y_bins.size - 1)} for i in range(x_bins.size -1)}\n",
    "for _, (px, py, pz) in tqdm(enumerate(points), total=len(points)):\n",
    "    xbin = np.clip(0, (px - x_min) // grid_size, x_bins.size - 1)\n",
    "    ybin = np.clip(0, (py - y_min) // grid_size, y_bins.size - 1)\n",
    "    grid[xbin][ybin].append((px, py, pz))\n"
   ]
  },
  {
   "cell_type": "code",
   "execution_count": null,
   "metadata": {},
   "outputs": [],
   "source": [
    "# Create grid_min\n",
    "grid_used = np.zeros((x_bins.size - 1, y_bins.size - 1))\n",
    "lst_grid_min = []\n",
    "lst_grid_min_pos = []\n",
    "for x in grid.keys():\n",
    "    for y in grid[x].keys():\n",
    "        if np.array(grid[x][y]).shape[0] > 0:\n",
    "            grid_used[x, y] = 1\n",
    "            # print(np.argmin(np.array(grid[x][y])[:,2]))\n",
    "            lst_grid_min.append(np.min(np.array(grid[x][y])[:,2]))\n",
    "            arg_min = np.argmin(np.array(grid[x][y])[:,2])\n",
    "            lst_grid_min_pos.append(np.array(grid[x][y])[arg_min,0:2])\n",
    "        else:\n",
    "            grid_used[x, y] = 0\n",
    "print(grid_used)\n",
    "arr_grid_min_pos = np.vstack(lst_grid_min_pos)\n",
    "print(arr_grid_min_pos.shape)"
   ]
  },
  {
   "cell_type": "code",
   "execution_count": null,
   "metadata": {},
   "outputs": [],
   "source": [
    "# Interpolate\n",
    "points_xy = np.array(points)[:,0:2]\n",
    "interpolated_min_z = scipy.interpolate.griddata(arr_grid_min_pos, np.array(lst_grid_min), points_xy, method=\"cubic\", fill_value=-1)\n",
    "\n",
    "mask_valid = np.array([x != -1 for x in list(interpolated_min_z)])\n",
    "points_interpolated = points_interpolated[mask_valid]\n",
    "points_interpolated[:, 2] = interpolated_min_z[mask_valid]\n",
    "\n",
    "print(f\"Original number of points: {points.shape[0]}\")\n",
    "print(f\"Interpollated number of points: {points_interpolated.shape[0]} ({int(points_interpolated.shape[0] / points.shape[0]*100)}%)\")\n"
   ]
  },
  {
   "cell_type": "code",
   "execution_count": null,
   "metadata": {},
   "outputs": [],
   "source": [
    "save = False"
   ]
  },
  {
   "cell_type": "code",
   "execution_count": null,
   "metadata": {},
   "outputs": [],
   "source": [
    "# save mask\n",
    "with open(tile_src.split('.laz')[0] + f\"_mask_{grid_size}m.pcl\", '+wb') as file:\n",
    "    pickle.dump(mask_valid, file)"
   ]
  },
  {
   "cell_type": "code",
   "execution_count": null,
   "metadata": {},
   "outputs": [],
   "source": [
    "# save floor\n",
    "filtered_points = {dim: getattr(laz, dim)[mask_valid] for dim in laz.point_format.dimension_names}\n",
    "header = laspy.LasHeader(point_format=laz.header.point_format, version=laz.header.version)\n",
    "new_las = laspy.LasData(header)\n",
    "\n",
    "#   _Assign filtered and modified data\n",
    "for dim, values in filtered_points.items():\n",
    "    setattr(new_las, dim, values)\n",
    "# new_las.xyz = points_interpolated\n",
    "setattr(new_las, 'x', points_interpolated[:,0])\n",
    "setattr(new_las, 'y', points_interpolated[:,1])\n",
    "setattr(new_las, 'z', points_interpolated[:,2])\n",
    "\n",
    "print(len(new_las))\n",
    "#   _Save new file\n",
    "new_las.write(tile_src.split('.laz')[0] + f\"_floor_{grid_size}m.laz\")\n",
    "print(\"Saved file: \", tile_src.split('.laz')[0] + f\"_floor_{grid_size}m.laz\")\n",
    "\n",
    "\n",
    "# if save:\n",
    "#     pcd.points = o3d.utility.Vector3dVector(points_interpolated)\n",
    "#     o3d.io.write_point_cloud(tile_src.split('.pcd')[0] + f\"_floor_{grid_size}m.pcd\", pcd, write_ascii=True)"
   ]
  },
  {
   "cell_type": "code",
   "execution_count": null,
   "metadata": {},
   "outputs": [],
   "source": [
    "test_laz = laspy.read(tile_src.split('.laz')[0] + f\"_floor_{grid_size}m.laz\")\n",
    "print(len(test_laz))"
   ]
  },
  {
   "cell_type": "code",
   "execution_count": null,
   "metadata": {},
   "outputs": [],
   "source": [
    "# Flatten\n",
    "points_flatten = points_flatten[mask_valid]\n",
    "points_flatten[:,2] = points_flatten[:,2] - points_interpolated[:,2]\n",
    "# points_flatten[:,2] = np.clip(0, points_flatten[:,2] - points_interpolated[:,2], np.inf)\n",
    "\n",
    "filtered_points = {dim: getattr(laz, dim)[mask_valid] for dim in laz.point_format.dimension_names}\n",
    "header = laspy.LasHeader(point_format=laz.header.point_format, version=laz.header.version)\n",
    "new_las = laspy.LasData(header)\n",
    "\n",
    "#   _Assign filtered and modified data\n",
    "for dim, values in filtered_points.items():\n",
    "    setattr(new_las, dim, values)\n",
    "# new_las.xyz = points_flatten\n",
    "setattr(new_las, 'x', points_flatten[:,0])\n",
    "setattr(new_las, 'y', points_flatten[:,1])\n",
    "setattr(new_las, 'z', points_flatten[:,2])\n",
    "\n",
    "#   _Save new file\n",
    "new_las.write(tile_src.split('.laz')[0] + f\"_flatten_{grid_size}m.laz\")\n",
    "print(\"Saved file: \", tile_src.split('.laz')[0] + f\"_flatten_{grid_size}m.laz\")\n",
    "\n",
    "# if save:\n",
    "#     pcd.points = o3d.utility.Vector3dVector(points_flatten)\n",
    "    \n",
    "#     o3d.io.write_point_cloud(tile_src.split('.pcd')[0] + f\"_flatten_{grid_size}m.pcd\", pcd, write_ascii=True)\n"
   ]
  },
  {
   "cell_type": "markdown",
   "metadata": {},
   "source": [
    "### Visualize the removed points"
   ]
  },
  {
   "cell_type": "code",
   "execution_count": null,
   "metadata": {},
   "outputs": [],
   "source": [
    "# Find removed points\n",
    "removed_points = copy.deepcopy(points)\n",
    "removed_points = removed_points[~mask_valid]"
   ]
  },
  {
   "cell_type": "code",
   "execution_count": null,
   "metadata": {},
   "outputs": [],
   "source": [
    "# Visualize removed points\n",
    "pcd_new = o3d.geometry.PointCloud()\n",
    "pcd_new.points = o3d.utility.Vector3dVector(removed_points)\n",
    "o3d.visualization.draw_geometries([pcd_new])"
   ]
  },
  {
   "cell_type": "code",
   "execution_count": null,
   "metadata": {},
   "outputs": [],
   "source": [
    "src_flatten_tile = r\"D:\\PDM_repo\\Github\\PDM\\data\\flattening_corrections\\test\\flatten\\color_grp_full_tile_128_flatten_10m.laz\"\n",
    "las = laspy.read(src_flatten_tile)\n",
    "print(len(las))"
   ]
  },
  {
   "cell_type": "code",
   "execution_count": null,
   "metadata": {},
   "outputs": [],
   "source": [
    "# Check for NaNs in the XYZ coordinates\n",
    "xyz = las.xyz  # Returns a (N, 3) array of floats\n",
    "has_nan_xyz = np.isnan(xyz).any()\n",
    "\n",
    "print(\"Contains NaN in XYZ:\", has_nan_xyz)\n",
    "for dim in las.point_format.dimension_names:\n",
    "    print(\"looking at dim: \", dim)\n",
    "    data = getattr(las, dim)\n",
    "    if isinstance(data, np.ndarray) and np.issubdtype(data.dtype, np.floating):\n",
    "        if np.isnan(data).any():\n",
    "            print(f\"NaNs found in dimension: {dim}\")"
   ]
  }
 ],
 "metadata": {
  "kernelspec": {
   "display_name": "PDM",
   "language": "python",
   "name": "python3"
  },
  "language_info": {
   "codemirror_mode": {
    "name": "ipython",
    "version": 3
   },
   "file_extension": ".py",
   "mimetype": "text/x-python",
   "name": "python",
   "nbconvert_exporter": "python",
   "pygments_lexer": "ipython3",
   "version": "3.9.21"
  }
 },
 "nbformat": 4,
 "nbformat_minor": 2
}
