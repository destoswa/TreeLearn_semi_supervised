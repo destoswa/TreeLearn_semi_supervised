{
 "cells": [
  {
   "cell_type": "markdown",
   "id": "5c3027ca",
   "metadata": {},
   "source": [
    "# Visualization of training samples"
   ]
  },
  {
   "cell_type": "markdown",
   "id": "d4a99886",
   "metadata": {},
   "source": [
    "# table of content\n",
    "1) [Path to files to process](#path-to-files-to-process)\n",
    "2) [Visualiization of tiles from above](#visualization-of-tiles-from-above)\n",
    "3) [Analysis of training pickles](#analysis-of-training-pickles)\n",
    "4) [Show cylinders on full tiles](#show-cylinders-on-full-tiles)\n",
    "5) [Extract statistics](#extract-statistics)"
   ]
  },
  {
   "cell_type": "markdown",
   "id": "5de632f9",
   "metadata": {},
   "source": [
    "### Dependencies and general utils"
   ]
  },
  {
   "cell_type": "code",
   "execution_count": null,
   "id": "aaf8e602",
   "metadata": {},
   "outputs": [],
   "source": [
    "import os\n",
    "import numpy as np\n",
    "import pandas as pd\n",
    "import matplotlib.pyplot as plt\n",
    "from matplotlib.patches import Circle\n",
    "import seaborn as sns\n",
    "import open3d as o3d\n",
    "import laspy\n",
    "import pickle\n",
    "import pdal\n",
    "import json\n",
    "from tqdm import tqdm"
   ]
  },
  {
   "cell_type": "markdown",
   "id": "55828e2d",
   "metadata": {},
   "source": [
    "### Path to files to process"
   ]
  },
  {
   "cell_type": "code",
   "execution_count": null,
   "id": "fc6e1251",
   "metadata": {},
   "outputs": [],
   "source": [
    "src_tiles = r\"D:\\PDM_repo\\Github\\PDM\\results\\trainings\\20250427_140314_test\\pseudo_labels\"\n",
    "src_pickles = r\"D:\\PDM_repo\\Github\\PDM\\data\\dataset_tiles_100m\\training_samples\\loop2\""
   ]
  },
  {
   "cell_type": "markdown",
   "id": "549b1c96",
   "metadata": {},
   "source": [
    "### Visualization of tiles from above"
   ]
  },
  {
   "cell_type": "code",
   "execution_count": null,
   "id": "d81a9dd9",
   "metadata": {},
   "outputs": [],
   "source": [
    "# loading\n",
    "tile_src = \"../data/training_sample_visualization/color_grp_full_tile_311_out_gt.laz\"\n",
    "tile = laspy.read(tile_src)\n",
    "print(list(tile.point_format.dimension_names))"
   ]
  },
  {
   "cell_type": "markdown",
   "id": "4ed96a6b",
   "metadata": {},
   "source": [
    "#### utils"
   ]
  },
  {
   "cell_type": "code",
   "execution_count": null,
   "id": "f4f8d866",
   "metadata": {},
   "outputs": [],
   "source": [
    "def plot_las_top_view(las_path, point_size=0.5, color_by='z'):\n",
    "    \"\"\"\n",
    "    Load a LAS/LAZ file and generate a top-down image (XY plane) colored by height or intensity.\n",
    "\n",
    "    Parameters:\n",
    "    - las_path: str, path to the .las or .laz file\n",
    "    - point_size: float, size of each point in the scatter plot\n",
    "    - color_by: str, either 'z' or 'intensity', to color points\n",
    "    \"\"\"\n",
    "\n",
    "    # Load LAS file\n",
    "    las = laspy.read(las_path)\n",
    "\n",
    "    # Get coordinates\n",
    "    x = las.x\n",
    "    y = las.y\n",
    "\n",
    "    # Get values for coloring\n",
    "    try:\n",
    "        c = las.__getattr__(color_by)\n",
    "    except Exception as e:\n",
    "        print(\"Not working!\\n\", e)\n",
    "\n",
    "    # Plot\n",
    "    plt.figure(figsize=(10, 10))\n",
    "    plt.scatter(x, y, c=c, s=point_size, cmap='viridis', marker='.')\n",
    "    plt.xlabel(\"X\")\n",
    "    plt.ylabel(\"Y\")\n",
    "    plt.title(f\"Top-Down View (colored by {color_by})\")\n",
    "    plt.colorbar(label=color_by)\n",
    "    plt.axis(\"equal\")\n",
    "    plt.tight_layout()\n",
    "    plt.show()"
   ]
  },
  {
   "cell_type": "code",
   "execution_count": null,
   "id": "e593671c",
   "metadata": {},
   "outputs": [],
   "source": [
    "plot_las_top_view(tile_src, point_size=0.2, color_by='gt_semantic_segmentation')"
   ]
  },
  {
   "cell_type": "code",
   "execution_count": null,
   "id": "5cbf9d7a",
   "metadata": {},
   "outputs": [],
   "source": []
  },
  {
   "cell_type": "markdown",
   "id": "42c0d728",
   "metadata": {},
   "source": [
    "### Analysis of training pickles"
   ]
  },
  {
   "cell_type": "code",
   "execution_count": null,
   "id": "fc33137a",
   "metadata": {},
   "outputs": [],
   "source": [
    "# get all centers\n",
    "list_centers = []\n",
    "files = [x for x in os.listdir(src_pickles) if x.endswith('pickle')]\n",
    "for file in files:\n",
    "    with open(os.path.join(src_pickles, file), 'rb') as in_file:\n",
    "        training_pickle = pickle.load(in_file)\n",
    "    for center in training_pickle:\n",
    "        list_centers.append(tuple(center[0]))\n",
    "print(\"Total number of centers: \", len(list_centers))\n",
    "list_centers = set(list_centers)\n",
    "print(\"Without duplicates: \", len(list_centers))"
   ]
  },
  {
   "cell_type": "code",
   "execution_count": null,
   "id": "05e6b576",
   "metadata": {},
   "outputs": [],
   "source": [
    "# associate centers to tiles:\n",
    "tiles = [x for x in os.listdir(src_tiles) if x.endswith('laz')]\n",
    "centers_to_tiles = {tile_src: [] for tile_src in tiles}\n",
    "for tile_src in tiles:\n",
    "    tile = laspy.read(os.path.join(src_tiles, tile_src))\n",
    "    x_min = tile.x.min()\n",
    "    x_max = tile.x.max()\n",
    "    y_min = tile.y.min()\n",
    "    y_max = tile.y.max()\n",
    "    for center in list_centers:\n",
    "        if center[0] > x_min and center[0] < x_max and center[1] > y_min and center[1] < y_max:\n",
    "            centers_to_tiles[tile_src].append(center)\n",
    "\n",
    "lst_full = {x:y for x,y in centers_to_tiles.items() if len(y) > 0}\n",
    "lst_empty = {x:y for x,y in centers_to_tiles.items() if len(y) == 0}\n",
    "\n",
    "print(\"Full tiles: \")\n",
    "for x,y in lst_full.items():\n",
    "    print(f\"\\t{x} ({len(y)} samples)\")\n",
    "print(\"Empty tiles: \")\n",
    "for x in lst_empty.keys():\n",
    "    print(\"\\t\", x)"
   ]
  },
  {
   "cell_type": "markdown",
   "id": "93c87443",
   "metadata": {},
   "source": [
    "### Show cylinders on full tiles"
   ]
  },
  {
   "cell_type": "markdown",
   "id": "8a4c361e",
   "metadata": {},
   "source": [
    "#### utils"
   ]
  },
  {
   "cell_type": "code",
   "execution_count": null,
   "id": "08045aec",
   "metadata": {},
   "outputs": [],
   "source": [
    "def plot_las_plus_centers(las_path, lst_centers, title=\"\", point_size=0.5, radius=8, color_by='z'):\n",
    "    \"\"\"\n",
    "    Load a LAS/LAZ file and generate a top-down image (XY plane) colored by height or intensity.\n",
    "\n",
    "    Parameters:\n",
    "    - las_path: str, path to the .las or .laz file\n",
    "    - point_size: float, size of each point in the scatter plot\n",
    "    - color_by: str, either 'z' or 'intensity', to color points\n",
    "    \"\"\"\n",
    "\n",
    "    # Load LAS file\n",
    "    las = laspy.read(las_path)\n",
    "\n",
    "    # Get coordinates\n",
    "    x = las.x\n",
    "    y = las.y\n",
    "\n",
    "    # Get values for coloring\n",
    "    try:\n",
    "        c = las.__getattr__(color_by)\n",
    "    except Exception as e:\n",
    "        print(\"Not working!\\n\", e)\n",
    "\n",
    "    # Plot\n",
    "    fig, ax = plt.subplots(figsize=(10, 10))\n",
    "    sc = ax.scatter(x, y, c=c, s=point_size, cmap='viridis', marker='.')\n",
    "    plt.xlabel(\"X\")\n",
    "    plt.ylabel(\"Y\")\n",
    "    if title == \"\":\n",
    "        plt.title(f\"{os.path.basename(las_path)} (colored by {color_by})\")\n",
    "    else:\n",
    "        plt.title(f\"{title} (colored by {color_by})\")\n",
    "         \n",
    "    plt.colorbar(sc, label=color_by)\n",
    "    ax.set_aspect('equal')\n",
    "    for (px, py) in lst_centers:\n",
    "            circle = Circle((px, py), radius=radius, edgecolor='red', facecolor='none', linewidth=2)\n",
    "            ax.add_patch(circle)\n",
    "    plt.tight_layout()\n",
    "    plt.show()"
   ]
  },
  {
   "cell_type": "markdown",
   "id": "4a0f0014",
   "metadata": {},
   "source": [
    "#### show centers"
   ]
  },
  {
   "cell_type": "code",
   "execution_count": null,
   "id": "1835ed29",
   "metadata": {},
   "outputs": [],
   "source": [
    "for tile_src in tiles:\n",
    "    plot_las_plus_centers(\n",
    "        os.path.join(src_tiles, tile_src), \n",
    "        centers_to_tiles[tile_src], \n",
    "        # title=tiles_to_type[tile_src],\n",
    "        point_size=0.2, \n",
    "        color_by='classification',\n",
    "        )"
   ]
  },
  {
   "cell_type": "code",
   "execution_count": null,
   "id": "aa2b8db3",
   "metadata": {},
   "outputs": [],
   "source": []
  },
  {
   "cell_type": "markdown",
   "id": "618f9a74",
   "metadata": {},
   "source": [
    "### Extract statistics"
   ]
  },
  {
   "cell_type": "markdown",
   "id": "ead2a46a",
   "metadata": {},
   "source": [
    "#### Utils"
   ]
  },
  {
   "cell_type": "code",
   "execution_count": null,
   "id": "d915958d",
   "metadata": {},
   "outputs": [],
   "source": [
    "def extract_points_in_circle(center, las, lst_features, radius=8):\n",
    "    \"\"\"\n",
    "    Extract indices and coordinates of points within given circles.\n",
    "\n",
    "    Parameters:\n",
    "    - x, y: np.ndarray, point coordinates (from las.x and las.y)\n",
    "    - las: laspy.LasData, the LAS file object\n",
    "    - centers: list of (x, y) tuples representing circle centers\n",
    "    - radius: float, radius of the circle\n",
    "\n",
    "    Returns:\n",
    "    - list of np.ndarray, each containing the indices of points inside a circle\n",
    "    \"\"\"\n",
    "    results = {}\n",
    "    cx, cy = center\n",
    "    dist = np.sqrt((las.x - cx)**2 + (las.y - cy)**2)\n",
    "    mask = dist <= radius\n",
    "    # results.append(np.where(mask)[0])  # Store indices\n",
    "    # results = {}\n",
    "    for feature in lst_features:\n",
    "        results[feature] = las[feature][mask]\n",
    "\n",
    "    return results"
   ]
  },
  {
   "cell_type": "markdown",
   "id": "ef05eecc",
   "metadata": {},
   "source": [
    "#### Extract"
   ]
  },
  {
   "cell_type": "code",
   "execution_count": null,
   "id": "927f7820",
   "metadata": {},
   "outputs": [],
   "source": [
    "# prepare dict of stats:\n",
    "list_of_stats = [\"semantic_frac_ground\", \"semantic_frac_tree\", \"\", \"frac_grey\", \"frac_ground\", \"frac_tree\"]\n",
    "stats_tot = {x:[] for x in list_of_stats}\n",
    "tile_test = laspy.read(os.path.join(src_tiles, tiles[0]))\n",
    "lst_features = list(tile_test.point_format.dimension_names)\n",
    "center_points = {x:[] for x in lst_features}\n",
    "print(\"Centers:\\n\", list_centers)\n",
    "\n",
    "# loop on centers:\n",
    "for idx, center in tqdm(enumerate(list_centers), total=len(list_centers), desc=\"Extracting data\"):\n",
    "    # find corresponding tile\n",
    "    src_corresponding_tile = \"\"\n",
    "    for tile_name, lst_centers in centers_to_tiles.items():\n",
    "        if center in lst_centers:\n",
    "            src_corresponding_tile = os.path.join(src_tiles, tile_name)\n",
    "            break\n",
    "    if src_corresponding_tile == \"\":\n",
    "        print(\"DID NOT FIND A CORRESPONDING TILE TO \", center)\n",
    "        break\n",
    "\n",
    "    # find matching points\n",
    "    tile = laspy.read(src_corresponding_tile)\n",
    "    results = extract_points_in_circle(center, tile, lst_features)\n",
    "    for feature, vals in results.items():\n",
    "        center_points[feature].append(vals)\n",
    "    \n",
    "# Computing stats\n",
    "pseudo_labels_semantic = center_points['classification']\n",
    "stats_tot['frac_grey'] = [len(x[x == 0])/len(x) for x in pseudo_labels_semantic if 0 in x]\n",
    "stats_tot['frac_ground'] = [len(x[x == 1])/len(x) for x in pseudo_labels_semantic if 1 in x]\n",
    "stats_tot['frac_tree'] = [len(x[x == 4])/len(x) for x in pseudo_labels_semantic if 4 in x]\n",
    "\n",
    "\n",
    "    \n",
    "\n",
    "    \n",
    "\n"
   ]
  },
  {
   "cell_type": "code",
   "execution_count": null,
   "id": "04cb7414",
   "metadata": {},
   "outputs": [],
   "source": [
    "# Showing distribution\n",
    "fig, axs = plt.subplots(3,2, figsize=(12, 15))\n",
    "axs = axs.flatten()\n",
    "lst_metrics = ['frac_grey', 'frac_ground', 'frac_tree']\n",
    "for idx, metric in enumerate(lst_metrics):\n",
    "    sns.histplot(stats_tot[metric], bins=10, binrange=(0.0, 1.0), ax=axs[2*idx])\n",
    "    sns.boxplot(stats_tot[metric], ax=axs[2*idx + 1])\n",
    "    axs[2*idx].set_title(f\"Histogram of {metric}\")\n",
    "    axs[2*idx + 1].set_title(f\"Boxplot of {metric}\")"
   ]
  }
 ],
 "metadata": {
  "kernelspec": {
   "display_name": "PDM",
   "language": "python",
   "name": "python3"
  },
  "language_info": {
   "codemirror_mode": {
    "name": "ipython",
    "version": 3
   },
   "file_extension": ".py",
   "mimetype": "text/x-python",
   "name": "python",
   "nbconvert_exporter": "python",
   "pygments_lexer": "ipython3",
   "version": "3.9.21"
  }
 },
 "nbformat": 4,
 "nbformat_minor": 5
}
