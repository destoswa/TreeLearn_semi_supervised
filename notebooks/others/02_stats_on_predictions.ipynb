{
 "cells": [
  {
   "cell_type": "markdown",
   "metadata": {},
   "source": [
    "# Stats on predictions"
   ]
  },
  {
   "cell_type": "markdown",
   "metadata": {},
   "source": [
    "# table of content\n",
    "1) [Load stats](#load-stats)\n",
    "2) [Show histograms and barplots](#show-histograms-and-barplots)\n",
    "3) [Pie on heights](#pie-on-heights)"
   ]
  },
  {
   "cell_type": "markdown",
   "metadata": {},
   "source": [
    "### Dependencies and general utils"
   ]
  },
  {
   "cell_type": "code",
   "execution_count": null,
   "metadata": {},
   "outputs": [],
   "source": [
    "import os\n",
    "import numpy as np\n",
    "import pandas as pd\n",
    "import matplotlib.pyplot as plt\n",
    "import seaborn as sns\n",
    "import open3d as o3d\n",
    "import laspy\n",
    "import pdal\n",
    "import json\n",
    "from tqdm import tqdm"
   ]
  },
  {
   "cell_type": "code",
   "execution_count": null,
   "metadata": {},
   "outputs": [],
   "source": [
    "# src folder\n",
    "files_src = r\"..\\data\\testing_samples\\split_0332_out_split_instance\"\n",
    "files = [x for x in os.listdir(files_src) if x.endswith('.laz')]\n",
    "print(files[2])\n",
    "        "
   ]
  },
  {
   "cell_type": "markdown",
   "metadata": {},
   "source": [
    "### Load stats"
   ]
  },
  {
   "cell_type": "code",
   "execution_count": null,
   "metadata": {},
   "outputs": [],
   "source": [
    "# get the different stats points\n",
    "dict_stats = {\n",
    "    \"count\": [],\n",
    "    \"min\": [],\n",
    "    \"max\": [],\n",
    "    \"height\": [],\n",
    "    \"std\": [],\n",
    "    \"var\": [],\n",
    "}\n",
    "for _, file in tqdm(enumerate(files), total=len(files)):\n",
    "    if _ == 0: # skip the ground\n",
    "        continue\n",
    "\n",
    "    # load file's stats\n",
    "    pipeline_json = {\n",
    "            \"pipeline\": [\n",
    "                os.path.join(files_src, file),\n",
    "                {\n",
    "                    \"type\": \"filters.stats\"\n",
    "                }\n",
    "            ]\n",
    "        }\n",
    "    pipeline = pdal.Pipeline(json.dumps(pipeline_json))\n",
    "    pipeline.execute()\n",
    "\n",
    "    # record stats\n",
    "    stats = pipeline.metadata['metadata'][\"filters.stats\"][\"statistic\"][0]\n",
    "    dict_stats['count'].append(stats['count'])\n",
    "    dict_stats['min'].append(stats['minimum'])\n",
    "    dict_stats['max'].append(stats['maximum'])\n",
    "    dict_stats['height'].append(stats['maximum'] - stats['minimum'])\n",
    "    dict_stats['std'].append(stats['stddev'])\n",
    "    dict_stats['var'].append(stats['variance'])\n",
    "\n",
    "    # for stat, stat_val in pipeline.metadata['metadata'][\"filters.stats\"][\"statistic\"][0].items():\n",
    "    #     print(f\"{stat}: {stat_val}\")"
   ]
  },
  {
   "cell_type": "markdown",
   "metadata": {},
   "source": [
    "### Show histograms and barplots"
   ]
  },
  {
   "cell_type": "code",
   "execution_count": null,
   "metadata": {},
   "outputs": [],
   "source": [
    "fig, axs = plt.subplots(len(dict_stats), 2, figsize=(10,30))\n",
    "for idx, (stat, stat_vals) in enumerate(dict_stats.items()):\n",
    "    (n, bins, patches) = axs[idx, 0].hist(stat_vals, log=False, bins=8, edgecolor = \"white\")\n",
    "    axs[idx,0].set_xticks(bins)\n",
    "    axs[idx,0].bar_label(patches, fontsize=12)\n",
    "    # axs[idx,0].tick_params(\"x\", rotation=90)\n",
    "    axs[idx, 1].boxplot(np.log(stat_vals))\n",
    "    axs[idx, 0].set_title(f'Histogram - {stat}')\n",
    "    axs[idx, 1].set_title(f'Boxplot - {stat}')\n",
    "plt.tight_layout()\n",
    "plt.show()"
   ]
  },
  {
   "cell_type": "markdown",
   "metadata": {},
   "source": [
    "### Pie on heights"
   ]
  },
  {
   "cell_type": "code",
   "execution_count": null,
   "metadata": {},
   "outputs": [],
   "source": [
    "# categories\n",
    "list_height = [0, 1, 5, 10, 20, np.inf]\n",
    "labels_height = ['<1m', '1-5m', '5-10m', '10-20m', '>20']\n",
    "list_count = []\n",
    "for i in range(5):\n",
    "    list_count.append(len([x for x in dict_stats['height'] if x > list_height[i] and x < list_height[i+1]]))\n",
    "\n",
    "\n",
    "def func(pct, allvals):\n",
    "    frac = int(np.round(pct/np.sum(allvals)*100))\n",
    "    return f\"{frac:.1f}% ({pct:d})\"\n",
    "fig, ax = plt.subplots(figsize=(10, 5), subplot_kw=dict(aspect=\"equal\"))\n",
    "wedges, texts = ax.pie(list_count, startangle=-40, labels=[func(x, list_count) for x in list_count])\n",
    "ax.legend(wedges, labels_height,\n",
    "          title=\"Ranges\",\n",
    "          loc=\"center left\",\n",
    "          bbox_to_anchor=(1, 0, 0.5, 1))\n",
    "ax.set_title(\"Categories of heights\")\n",
    "\n",
    "plt.show()"
   ]
  },
  {
   "cell_type": "code",
   "execution_count": null,
   "metadata": {},
   "outputs": [],
   "source": []
  }
 ],
 "metadata": {
  "kernelspec": {
   "display_name": "PDM",
   "language": "python",
   "name": "python3"
  },
  "language_info": {
   "codemirror_mode": {
    "name": "ipython",
    "version": 3
   },
   "file_extension": ".py",
   "mimetype": "text/x-python",
   "name": "python",
   "nbconvert_exporter": "python",
   "pygments_lexer": "ipython3",
   "version": "3.9.21"
  }
 },
 "nbformat": 4,
 "nbformat_minor": 2
}
