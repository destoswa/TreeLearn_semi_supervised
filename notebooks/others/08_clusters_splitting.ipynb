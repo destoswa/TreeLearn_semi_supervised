{
 "cells": [
  {
   "cell_type": "markdown",
   "id": "ab9ebb3c",
   "metadata": {},
   "source": [
    "# Cluster splitting"
   ]
  },
  {
   "cell_type": "markdown",
   "id": "e74ce174",
   "metadata": {},
   "source": [
    "# table of content\n",
    "1) [Function implementation](#function-implementation)\n",
    "2) [Test with numpy arrays](#test-with-numpy-arrays)\n",
    "3) [Test with two overlapping  pointclouds](#tests-with-two-overlapping-pointclouds)"
   ]
  },
  {
   "cell_type": "markdown",
   "id": "9cd13f2a",
   "metadata": {},
   "source": [
    "### Dependencies and general utils"
   ]
  },
  {
   "cell_type": "code",
   "execution_count": null,
   "id": "d26655d9",
   "metadata": {},
   "outputs": [],
   "source": [
    "import numpy as np\n",
    "import matplotlib.pyplot as plt\n",
    "from sklearn.decomposition import PCA"
   ]
  },
  {
   "cell_type": "markdown",
   "id": "73bfea95",
   "metadata": {},
   "source": [
    "### function implementation"
   ]
  },
  {
   "cell_type": "code",
   "execution_count": null,
   "id": "8ba0aee0",
   "metadata": {},
   "outputs": [],
   "source": [
    "def transform_with_pca(pointcloud, verbose=False):\n",
    "    # 1. Fit PCA\n",
    "    pca = PCA(n_components=2)\n",
    "    transformed = pca.fit_transform(pointcloud)\n",
    "\n",
    "    # You can access components and mean\n",
    "    components = pca.components_  # principal axes\n",
    "    mean = pca.mean_\n",
    "    if verbose:\n",
    "        print(\"PCA components (axes):\\n\", components)\n",
    "        print(\"PCA-transformed points:\\n\", transformed)\n",
    "    \n",
    "    return transformed\n",
    "    "
   ]
  },
  {
   "cell_type": "markdown",
   "id": "d18b6b48",
   "metadata": {},
   "source": [
    "### test with numpy arrays"
   ]
  },
  {
   "cell_type": "code",
   "execution_count": null,
   "id": "00c6749a",
   "metadata": {},
   "outputs": [],
   "source": [
    "points = np.array([\n",
    "    [2.5, 2.4],\n",
    "    [0.5, 0.7],\n",
    "    [2.2, 2.9],\n",
    "    [1.9, 2.2],\n",
    "    [3.1, 3.0],\n",
    "    [2.3, 2.7],\n",
    "    [2.0, 1.6],\n",
    "    [1.0, 1.1],\n",
    "    [1.5, 1.6],\n",
    "    [1.1, 0.9],\n",
    "])\n",
    "points_transformed = transform_with_pca(points, True)\n",
    "print(np.std(points_transformed[:,0]))\n",
    "print(np.std(points_transformed[:,1]))"
   ]
  },
  {
   "cell_type": "code",
   "execution_count": null,
   "id": "27ca41da",
   "metadata": {},
   "outputs": [],
   "source": [
    "fig, axs = plt.subplots(2,2, figsize=(12,12))\n",
    "axs = axs.flatten()\n",
    "axs[0].scatter(points[:,1], points[:,0])\n",
    "axs[1].scatter(points_transformed[:,1], points_transformed[:,0])\n",
    "x_min = np.min(np.concatenate([points[:,1],points_transformed[:,1]]))\n",
    "x_max = np.max(np.concatenate([points[:,1],points_transformed[:,1]]))\n",
    "y_min = np.min(np.concatenate([points[:,0],points_transformed[:,0]]))\n",
    "y_max = np.max(np.concatenate([points[:,0],points_transformed[:,0]]))\n",
    "\n",
    "for ax in axs:\n",
    "    ax.set_xlim([x_min-0.2, x_max+0.2])\n",
    "    ax.set_ylim([y_min-0.2, y_max+0.2])\n",
    "\n",
    "# cut\n",
    "mask_pos = points_transformed[:,1] > 0\n",
    "mask_neg = mask_pos == False\n",
    "\n",
    "axs[2].scatter(points[:,1][mask_pos], points[:,0][mask_pos], color='orange')\n",
    "axs[2].scatter(points[:,1][mask_neg], points[:,0][mask_neg])\n",
    "axs[3].scatter(points_transformed[:,1][mask_pos], points_transformed[:,0][mask_pos], color='orange')\n",
    "axs[3].scatter(points_transformed[:,1][mask_neg], points_transformed[:,0][mask_neg])"
   ]
  },
  {
   "cell_type": "markdown",
   "id": "d9ae2904",
   "metadata": {},
   "source": [
    "### Tests with two overlapping pointclouds"
   ]
  },
  {
   "cell_type": "code",
   "execution_count": null,
   "id": "98697d87",
   "metadata": {},
   "outputs": [],
   "source": [
    "# overlapping pointclouds\n",
    "\n",
    "np.random.seed(42)  # for reproducibility\n",
    "\n",
    "# Overlapping region (centered at (0, 0))\n",
    "overlap_points = np.random.normal(loc=0.0, scale=[0.5, 1], size=(30, 2))\n",
    "\n",
    "#rotate overlapping\n",
    "angle = np.pi/4\n",
    "M = [[np.cos(angle), -np.sin(angle)],[np.sin(angle), np.cos(angle)]]\n",
    "overlap_points = (M @ overlap_points.T).T\n",
    "\n",
    "# Unique part of A (shifted left)\n",
    "unique_A = np.random.normal(loc=-3.0, scale=1, size=(100, 2))\n",
    "\n",
    "# Unique part of B (shifted right)\n",
    "unique_B = np.random.normal(loc=3.0, scale=1, size=(100, 2))\n",
    "\n",
    "# Full sets\n",
    "# A = unique_A\n",
    "# B = unique_B\n",
    "A = np.vstack([overlap_points, unique_A])\n",
    "B = np.vstack([overlap_points, unique_B])\n"
   ]
  },
  {
   "cell_type": "code",
   "execution_count": null,
   "id": "9ac6bed5",
   "metadata": {},
   "outputs": [],
   "source": [
    "plt.figure(figsize=(6, 6))\n",
    "plt.scatter(A[:, 0], A[:, 1], color='steelblue', label='Set A', alpha=0.5)\n",
    "plt.scatter(B[:, 0], B[:, 1], color='salmon', label='Set B', alpha=0.5)\n",
    "plt.legend()\n",
    "plt.title(\"Two Sets of Points with ~30% Overlap\")\n",
    "plt.xlabel(\"X\")\n",
    "plt.ylabel(\"Y\")\n",
    "plt.grid(True)\n",
    "plt.axis('equal')\n",
    "plt.show()"
   ]
  },
  {
   "cell_type": "code",
   "execution_count": null,
   "id": "24797de0",
   "metadata": {},
   "outputs": [],
   "source": [
    "# find overlapping region\n",
    "points = overlap_points\n",
    "points_transformed = transform_with_pca(points)\n",
    "fig, axs = plt.subplots(2,2, figsize=(12,12))\n",
    "axs = axs.flatten()\n",
    "axs[0].scatter(points[:,1], points[:,0])\n",
    "axs[1].scatter(points_transformed[:,1], points_transformed[:,0])\n",
    "x_min = np.min(np.concatenate([points[:,1],points_transformed[:,1]]))\n",
    "x_max = np.max(np.concatenate([points[:,1],points_transformed[:,1]]))\n",
    "y_min = np.min(np.concatenate([points[:,0],points_transformed[:,0]]))\n",
    "y_max = np.max(np.concatenate([points[:,0],points_transformed[:,0]]))\n",
    "\n",
    "for ax in axs:\n",
    "    ax.set_xlim([x_min-0.2, x_max+0.2])\n",
    "    ax.set_ylim([y_min-0.2, y_max+0.2])\n",
    "\n",
    "# cut\n",
    "mask_pos = points_transformed[:,1] > 0\n",
    "mask_neg = mask_pos == False\n",
    "\n",
    "axs[2].scatter(points_transformed[:,1][mask_pos], points_transformed[:,0][mask_pos], color='orange')\n",
    "axs[2].scatter(points_transformed[:,1][mask_neg], points_transformed[:,0][mask_neg])\n",
    "axs[3].scatter(points[:,1][mask_pos], points[:,0][mask_pos], color='orange')\n",
    "axs[3].scatter(points[:,1][mask_neg], points[:,0][mask_neg])\n",
    "\n",
    "axs[0].set_title(\"1) Initial pointcloud in original coords\")\n",
    "axs[1].set_title(\"2) Initial pointcloud in PCA coords\")\n",
    "axs[2].set_title(\"3) Split each size of axis with smallest eigen value\")\n",
    "axs[3].set_title(\"4) Corresponding split in original coords\")"
   ]
  },
  {
   "cell_type": "code",
   "execution_count": null,
   "id": "59a689d4",
   "metadata": {},
   "outputs": [],
   "source": [
    "# find centroids of the two clusters:\n",
    "centroid_A = np.mean(A, axis=0)\n",
    "centroid_B = np.mean(B, axis=0)\n",
    "\n",
    "centroid_pos = np.mean(points[mask_pos], axis=0)\n",
    "centroid_neg = np.mean(points[mask_neg], axis=0)\n",
    "\n",
    "dist_pos_A = ((centroid_A[0] - centroid_pos[0])**2 + (centroid_A[1] - centroid_pos[1])**2)**0.5\n",
    "dist_pos_B = ((centroid_B[0] - centroid_pos[0])**2 + (centroid_B[1] - centroid_pos[1])**2)**0.5\n",
    "\n",
    "if dist_pos_A < dist_pos_B:\n",
    "    A_final = np.vstack([unique_A, overlap_points[mask_pos]])\n",
    "    B_final = np.vstack([unique_B, overlap_points[mask_neg]])\n",
    "else:\n",
    "    A_final = np.vstack([unique_A, overlap_points[mask_neg]])\n",
    "    B_final = np.vstack([unique_B, overlap_points[mask_pos]])\n",
    "\n",
    "\n",
    "fig, axs = plt.subplots(1,4, figsize=(20,5))\n",
    "axs = axs.flatten()\n",
    "axs[0].scatter(unique_A[:,0], unique_A[:,1], color='steelblue')\n",
    "axs[0].scatter(unique_B[:,0], unique_B[:,1], color='salmon')\n",
    "axs[0].scatter(overlap_points[:,0][mask_neg], overlap_points[:,1][mask_neg], color='mediumorchid')\n",
    "axs[0].scatter(overlap_points[:,0][mask_pos], overlap_points[:,1][mask_pos], color='seagreen')\n",
    "\n",
    "axs[1].set_title(\"Starting with the two parts of the overlapping clusters\")\n",
    "axs[1].scatter(unique_A[:,0], unique_A[:,1], color='steelblue')\n",
    "axs[1].scatter(unique_B[:,0], unique_B[:,1], color='salmon')\n",
    "axs[1].scatter(overlap_points[:,0][mask_neg], overlap_points[:,1][mask_neg], color='mediumorchid')\n",
    "axs[1].scatter(overlap_points[:,0][mask_pos], overlap_points[:,1][mask_pos], color='seagreen')\n",
    "axs[1].scatter(centroid_A[0], centroid_A[1], color='black')\n",
    "axs[1].scatter(centroid_B[0], centroid_B[1], color='black')\n",
    "axs[1].scatter(centroid_pos[0], centroid_pos[1], color='black')\n",
    "axs[1].scatter(centroid_neg[0], centroid_neg[1], color='black')\n",
    "\n",
    "axs[2].scatter(unique_A[:,0], unique_A[:,1], color='steelblue')\n",
    "axs[2].scatter(unique_B[:,0], unique_B[:,1], color='salmon')\n",
    "axs[2].scatter(overlap_points[:,0][mask_neg], overlap_points[:,1][mask_neg], color='mediumorchid')\n",
    "axs[2].scatter(overlap_points[:,0][mask_pos], overlap_points[:,1][mask_pos], color='seagreen')\n",
    "axs[2].scatter(centroid_A[0], centroid_A[1], color='black')\n",
    "axs[2].scatter(centroid_B[0], centroid_B[1], color='black')\n",
    "axs[2].scatter(centroid_pos[0], centroid_pos[1], color='black')\n",
    "axs[2].scatter(centroid_neg[0], centroid_neg[1], color='black')\n",
    "axs[2].plot([centroid_A[0], centroid_neg[0]], [centroid_A[1], centroid_neg[1]], color=\"black\")\n",
    "axs[2].plot([centroid_B[0], centroid_pos[0]], [centroid_B[1], centroid_pos[1]], color=\"black\")\n",
    "\n",
    "axs[3].scatter(A_final[:,0], A_final[:,1], color='steelblue')\n",
    "axs[3].scatter(B_final[:,0], B_final[:,1], color='salmon')\n",
    "\n",
    "axs[0].set_title(\"1) Starting with the two parts of the split\")\n",
    "axs[1].set_title(\"2) Compute centroïds\")\n",
    "axs[2].set_title(\"3) Match the closest centroïds\")\n",
    "axs[3].set_title(\"4) Merge the corresponding\")\n",
    "\n",
    "print(\"\")"
   ]
  },
  {
   "cell_type": "code",
   "execution_count": null,
   "id": "e3834b2e",
   "metadata": {},
   "outputs": [],
   "source": []
  }
 ],
 "metadata": {
  "kernelspec": {
   "display_name": "PDM",
   "language": "python",
   "name": "python3"
  },
  "language_info": {
   "codemirror_mode": {
    "name": "ipython",
    "version": 3
   },
   "file_extension": ".py",
   "mimetype": "text/x-python",
   "name": "python",
   "nbconvert_exporter": "python",
   "pygments_lexer": "ipython3",
   "version": "3.9.21"
  }
 },
 "nbformat": 4,
 "nbformat_minor": 5
}
