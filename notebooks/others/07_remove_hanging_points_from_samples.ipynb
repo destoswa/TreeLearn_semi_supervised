{
 "cells": [
  {
   "cell_type": "code",
   "execution_count": null,
   "id": "004a1682",
   "metadata": {},
   "outputs": [],
   "source": [
    "import os\n",
    "import numpy as np\n",
    "import laspy\n",
    "# import pdal\n",
    "from time import time\n",
    "from tqdm import tqdm"
   ]
  },
  {
   "cell_type": "code",
   "execution_count": null,
   "id": "5008c227",
   "metadata": {},
   "outputs": [],
   "source": [
    "# precise the sample\n",
    "src_sample = r\"D:\\PDM_repo\\Github\\PDM\\data\\full_dataset\\selection\\clusters_4\\cluster_2\\color_grp_full_tile_586.laz\"\n",
    "print(os.path.dirname(src_sample))"
   ]
  },
  {
   "cell_type": "code",
   "execution_count": null,
   "id": "87e77f29",
   "metadata": {},
   "outputs": [],
   "source": [
    "# remove hanging points\n",
    "laz_in = laspy.read(src_sample)\n",
    "points = np.array(laz_in.xyz)\n",
    "voxel_size = 2\n",
    "voxel_indices = np.floor(points / voxel_size).astype(np.int32)\n",
    "# print(voxel_indices)\n",
    "print(voxel_indices.shape)\n",
    "# points = [\n",
    "#     [0,1,2],\n",
    "#     [3,2,2],\n",
    "#     [-5,10,45]\n",
    "# ]\n",
    "min = np.min(points, axis=0)\n",
    "max = np.max(points, axis=0)\n",
    "print(min)\n",
    "print(max)\n",
    "# min = [1, 1, 2]\n",
    "# max = [7, 8, 35]\n",
    "# voxel_size = 4\n",
    "voxel_indices = []\n",
    "voxel_indices.append(np.arange(min[0], max[0] + voxel_size, voxel_size))\n",
    "voxel_indices.append(np.arange(min[1], max[1] + voxel_size, voxel_size))\n",
    "voxel_indices.append(np.arange(min[2], max[2] + voxel_size, voxel_size))\n",
    "# print(voxel_x)\n",
    "# print(voxel_y)\n",
    "# print(voxel_z)\n",
    "# print(min[0])\n",
    "# print(max[0])\n",
    "\n",
    "a = 0\n",
    "time_start = time()\n",
    "container = {x:{y:{z:[] for z in range(len(voxel_indices[2]))} for y in range(len(voxel_indices[1]))} for x in range(len(voxel_indices[0]))}\n",
    "points_pos_in_container = []\n",
    "print(container)\n",
    "for _, point_id in tqdm(enumerate(range(points.shape[0])), total = points.shape[0]):\n",
    "    full_pos = [0,0,0]\n",
    "    for ax in range(3):\n",
    "        for pos in range(len(voxel_indices[ax])):\n",
    "            if points[point_id, ax] > voxel_indices[ax][pos] and points[point_id, ax] < voxel_indices[ax][pos+1]:\n",
    "                full_pos[ax] = pos\n",
    "                break\n",
    "    # container[0][1][2] = 3\n",
    "    # print(full_pos[0])\n",
    "    # print(full_pos[1])\n",
    "    # print(full_pos[2])\n",
    "    container[full_pos[0]][full_pos[1]][full_pos[2]].append(points[point_id])\n",
    "    points_pos_in_container.append(full_pos)\n",
    "#     for point in range(pos.shape[0]):\n",
    "#         a += 1\n",
    "print(\"Num of ops: \", a)\n",
    "time_end = time() -time_start\n",
    "print(\"Time to do it (s): \", time_end)"
   ]
  },
  {
   "cell_type": "code",
   "execution_count": null,
   "id": "e45ba854",
   "metadata": {},
   "outputs": [],
   "source": [
    "print(len(voxel_indices[0]))\n",
    "print(len(voxel_indices[1]))\n",
    "print(len(voxel_indices[2]))\n",
    "print('---')    \n",
    "for lst in container[0][0].values():\n",
    "    print(len(lst))"
   ]
  },
  {
   "cell_type": "code",
   "execution_count": null,
   "id": "86d9ca5c",
   "metadata": {},
   "outputs": [],
   "source": [
    "THRESHOLD = 5\n",
    "isolated_points = []\n",
    "for _, point_id in tqdm(enumerate(range(points.shape[0])), total = points.shape[0]):\n",
    "    num_neighboors = 0\n",
    "    pos = points_pos_in_container[point_id]\n",
    "    for dx in range(-1, 2):\n",
    "        for dy in range(-1, 2):\n",
    "            for dz in range(-1, 2):\n",
    "                x = np.max([pos[0] + dx, 0])\n",
    "                y = np.max([pos[1] + dy, 0])\n",
    "                z = np.max([pos[2] + dz, 0])\n",
    "                num_neighboors += len(container[x][y][z])\n",
    "    if num_neighboors < THRESHOLD:\n",
    "        isolated_points.append(point_id)\n",
    "\n",
    "print(len(isolated_points))\n"
   ]
  },
  {
   "cell_type": "code",
   "execution_count": null,
   "id": "2c9d6340",
   "metadata": {},
   "outputs": [],
   "source": [
    "#save laz in new place\n",
    "new_file_src = os.path.basename(src_sample).split('.laz')[0] + f'voxel_size_{voxel_size}_isolated_th_{THRESHOLD}.laz'\n",
    "new_laz_src = os.path.join(os.path.dirname(src_sample), new_file_src)\n",
    "laz_in.write(new_laz_src)"
   ]
  },
  {
   "cell_type": "code",
   "execution_count": null,
   "id": "6ed8ba24",
   "metadata": {},
   "outputs": [],
   "source": [
    "if 'isolated' not in list(laz_in.point_format.dimension_names):\n",
    "    laz_in.add_extra_dim(\n",
    "        laspy.ExtraBytesParams(\n",
    "            name='isolated',\n",
    "            type=\"f4\",\n",
    "            description='Isolated points',\n",
    "            ),\n",
    "        )\n",
    "laz_in.isolated = np.zeros(len(laz_in), dtype=\"f4\")\n",
    "for iso_id in isolated_points:\n",
    "    laz_in.isolated[iso_id] = 1"
   ]
  },
  {
   "cell_type": "code",
   "execution_count": null,
   "id": "c18bb6a4",
   "metadata": {},
   "outputs": [],
   "source": [
    "\n",
    "# create mask\n",
    "src_sample = r\"D:\\PDM_repo\\Github\\PDM\\data\\full_dataset\\selection\\clusters_4\\cluster_2\\color_grp_full_tile_586.laz\"\n",
    "new_file_src = os.path.basename(src_sample).split('.laz')[0] + 'voxel_size_2_isolated_th_5.laz'\n",
    "new_laz_src = os.path.join(os.path.dirname(src_sample), new_file_src)\n",
    "laz_in = laspy.read(new_laz_src)\n",
    "mask_isolated = laz_in.isolated == 0\n",
    "print(len(mask_isolated))\n",
    "print(np.sum(mask_isolated))\n",
    "print(\"Num of isolated points: \", int(len(mask_isolated) - np.sum(mask_isolated)))"
   ]
  },
  {
   "cell_type": "code",
   "execution_count": null,
   "id": "c0b4c7a0",
   "metadata": {},
   "outputs": [],
   "source": [
    "# remove points based on mask\n",
    "laz_in.points = laz_in.points[mask_isolated]\n",
    "# for dim in laz_in.point_format.dimension_names:\n",
    "#     laz_in.dim =\n",
    "print(len(laz_in))\n",
    "laz_in.write(new_laz_src.split('.laz')[0] + \"_removed.laz\")"
   ]
  },
  {
   "cell_type": "code",
   "execution_count": null,
   "id": "2d9aeb9e",
   "metadata": {},
   "outputs": [],
   "source": []
  },
  {
   "cell_type": "code",
   "execution_count": null,
   "id": "c45729d1",
   "metadata": {},
   "outputs": [],
   "source": []
  }
 ],
 "metadata": {
  "kernelspec": {
   "display_name": "PDM",
   "language": "python",
   "name": "python3"
  },
  "language_info": {
   "codemirror_mode": {
    "name": "ipython",
    "version": 3
   },
   "file_extension": ".py",
   "mimetype": "text/x-python",
   "name": "python",
   "nbconvert_exporter": "python",
   "pygments_lexer": "ipython3",
   "version": "3.9.21"
  }
 },
 "nbformat": 4,
 "nbformat_minor": 5
}
